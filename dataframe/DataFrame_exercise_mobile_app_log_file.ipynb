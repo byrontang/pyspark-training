{
 "cells": [
  {
   "cell_type": "markdown",
   "metadata": {},
   "source": [
    "# Mobile App Log File\n",
    "The Dataset contains the log files from different components used in the overall telecom application."
   ]
  },
  {
   "cell_type": "code",
   "execution_count": 1,
   "metadata": {},
   "outputs": [],
   "source": [
    "from pyspark.sql import SparkSession, SQLContext\n",
    "from pyspark import SparkContext, SparkConf\n",
    "from pyspark.sql import Row\n",
    "from pyspark.sql.functions import isnan, when, count, col, substring"
   ]
  },
  {
   "cell_type": "code",
   "execution_count": 2,
   "metadata": {},
   "outputs": [],
   "source": [
    "app_name = 'dataFrame'\n",
    "spark = SparkSession.builder.appName(app_name).getOrCreate()"
   ]
  },
  {
   "cell_type": "markdown",
   "metadata": {},
   "source": [
    "### Load data into Spark DataFrame\n",
    "The file access.log is not uploaded to GitHub because the file size is 482 MB."
   ]
  },
  {
   "cell_type": "code",
   "execution_count": 3,
   "metadata": {
    "scrolled": true
   },
   "outputs": [
    {
     "name": "stdout",
     "output_type": "stream",
     "text": [
      "+--------------------+----------------+--------------------+\n",
      "|             browser|              ip|              status|\n",
      "+--------------------+----------------+--------------------+\n",
      "| Mozilla/5.0 (Win...|109.169.248.247 | [12/Dec/2015:18:...|\n",
      "|raith.at/administ...|109.169.248.247 | [12/Dec/2015:18:...|\n",
      "| Mozilla/5.0 (Win...|    46.72.177.4 | [12/Dec/2015:18:...|\n",
      "|raith.at/administ...|    46.72.177.4 | [12/Dec/2015:18:...|\n",
      "| Mozilla/5.0 (Win...| 83.167.113.100 | [12/Dec/2015:18:...|\n",
      "+--------------------+----------------+--------------------+\n",
      "only showing top 5 rows\n",
      "\n"
     ]
    }
   ],
   "source": [
    "log_file = sc.textFile('..\\\\Module 6 - DataFrames and Spark SQL\\\\case study 2 dataset\\\\access.log')\n",
    "rdd = log_file.filter(lambda x: x != '').map(lambda x: x.split('-'))\n",
    "rows = rdd.map(lambda p: Row(ip=p[0], status=p[2], browser=p[3]))\n",
    "df = spark.createDataFrame(rows).cache()\n",
    "df.show(5)"
   ]
  },
  {
   "cell_type": "markdown",
   "metadata": {},
   "source": [
    "### Find out how many 404 HTTP codes are in access log\n"
   ]
  },
  {
   "cell_type": "code",
   "execution_count": 4,
   "metadata": {},
   "outputs": [
    {
     "data": {
      "text/plain": [
       "192622"
      ]
     },
     "execution_count": 4,
     "metadata": {},
     "output_type": "execute_result"
    }
   ],
   "source": [
    "df.createOrReplaceTempView('access')\n",
    "df_404 = spark.sql('select * from access where status like \"%404%\"')\n",
    "df_404.count()"
   ]
  },
  {
   "cell_type": "code",
   "execution_count": 5,
   "metadata": {},
   "outputs": [],
   "source": [
    "import re"
   ]
  },
  {
   "cell_type": "code",
   "execution_count": 6,
   "metadata": {
    "scrolled": true
   },
   "outputs": [
    {
     "name": "stdout",
     "output_type": "stream",
     "text": [
      "Row(status=' [12/Dec/2015:19:02:36 +0100] GET /templates/_system/css/general.css HTTP/1.1 404 239 http://almhuette') <class 'str'>\n",
      "Row(status=' [12/Dec/2015:19:44:06 +0100] GET /templates/_system/css/general.css HTTP/1.1 404 239 http://www.almhuette') <class 'str'>\n",
      "Row(status=' [12/Dec/2015:19:44:15 +0100] GET /favicon.ico HTTP/1.1 404 217 ') <class 'str'>\n",
      "Row(status=' [13/Dec/2015:01:01:19 +0100] GET /icons/text.gif HTTP/1.1 404 220 ') <class 'str'>\n"
     ]
    }
   ],
   "source": [
    "for x in df_404.select(['status']).take(4):\n",
    "    print(str(x), type(str(x)))"
   ]
  },
  {
   "cell_type": "markdown",
   "metadata": {},
   "source": [
    "### Find out which URLs are broken\n"
   ]
  },
  {
   "cell_type": "code",
   "execution_count": 7,
   "metadata": {},
   "outputs": [
    {
     "data": {
      "text/plain": [
       "{\"http://65.55.252.15/proxy.ashx?h=OJSfmAmQR0zRSPWXXDEhsk147zlR8wM7&a=http%3A%2F%2Fwww.almhuette')\",\n",
       " 'http://91.143.107.26/',\n",
       " 'http://\\\\\\\\xef\\\\\\\\xbb\\\\\\\\xbfhttp://www.apeloptik.de',\n",
       " 'http://almhuette\")',\n",
       " \"http://almhuette')\",\n",
       " 'http://aquaplant.com.ua/form/tpl/templates_d/logx???',\n",
       " 'http://aquaplant.com.ua/form/tpl/templates_d/logx????',\n",
       " 'http://cirt.net/',\n",
       " 'http://cirt.net/rfiinc.txt?',\n",
       " 'http://cirt.net/rfiinc.txt?%00',\n",
       " 'http://cirt.net/rfiinc.txt?&2093085906=1&995617320=2',\n",
       " 'http://cirt.net/rfiinc.txt?&cmd=cat/etc/passwd',\n",
       " 'http://cirt.net/rfiinc.txt?&cmd=dir',\n",
       " 'http://cirt.net/rfiinc.txt?&cmd=id',\n",
       " 'http://cirt.net/rfiinc.txt?&cmd=ls',\n",
       " 'http://cirt.net/rfiinc.txt?&command=cat%20/etc/passwd',\n",
       " 'http://cirt.net/rfiinc.txt?&file=article&sid=2',\n",
       " 'http://cirt.net/rfiinc.txt?&filhead=XXpathXX&cmd=id',\n",
       " 'http://cirt.net/rfiinc.txt?&l=testfile.txt?',\n",
       " 'http://cirt.net/rfiinc.txt?&mode=[file]',\n",
       " 'http://cirt.net/rfiinc.txt?&text=Hello%20World',\n",
       " \"http://cirt.net/rfiinc.txt?'\",\n",
       " 'http://cirt.net/rfiinc.txt?/something',\n",
       " \"http://cirt.net/rfiinc.txt?=';\",\n",
       " 'http://cirt.net/rfiinc.txt??',\n",
       " 'http://cirt.net/rfiinc.txt??&',\n",
       " 'http://cirt.net/rfiinc.txt??&2093085906=1&995617320=2',\n",
       " 'http://cirt.net/rfiinc.txt??&act=cmd&cmd=whoami&d=/&submit=1&cmd_txt=1',\n",
       " 'http://cirt.net/rfiinc.txt??&cmd=[command]',\n",
       " 'http://cirt.net/rfiinc.txt??&cmd=cat%20config.php',\n",
       " 'http://cirt.net/rfiinc.txt??&cmd=dir',\n",
       " 'http://cirt.net/rfiinc.txt??&cmd=id',\n",
       " 'http://cirt.net/rfiinc.txt??&cmd=ls',\n",
       " 'http://cirt.net/rfiinc.txt??&cmd=pwd',\n",
       " 'http://cirt.net/rfiinc.txt??&cmd=wget%20XXpathXX',\n",
       " 'http://cirt.net/rfiinc.txt???',\n",
       " 'http://cirt.net/rfiinc.txt????',\n",
       " 'http://cirt.net/rfiinc.txt??a=',\n",
       " 'http://cirt.net/rfiinc.txt??admin',\n",
       " 'http://cirt.net/rfiinc.txt??cm=id',\n",
       " 'http://cirt.net/rfiinc.txt??cmd',\n",
       " 'http://cirt.net/rfiinc.txt??cmd=id',\n",
       " 'http://cirt.net/rfiinc.txt??cmd=id;pwd',\n",
       " 'http://cirt.net/rfiinc.txt??cmd=ls',\n",
       " 'http://cirt.net/rfiinc.txt??cmd=pwd',\n",
       " 'http://cirt.net/rfiinc.txt??exec=uNikto',\n",
       " 'http://cirt.net/rfiinc.txt??exec=uname',\n",
       " 'http://cirt.net/rfiinc.txt??ls',\n",
       " 'http://google.com/',\n",
       " 'http://site.ru',\n",
       " 'http://skipfish.invalid/%3B%3F',\n",
       " 'http://skipfish.invalid/%3B%3F&Itemid=55',\n",
       " 'http://textuploader.com/ddhjr!?',\n",
       " \"http://webcache.googleusercontent.com/search?q=cache:643wwgdRi0EJ:www.almhuette')\",\n",
       " 'http://www.akidsme.com/main_eng/images/z10.txt??',\n",
       " 'http://www.almhuette\")',\n",
       " \"http://www.almhuette')\",\n",
       " 'http://www.bing.com',\n",
       " 'http://www.cirt.net/',\n",
       " 'http://www.example.com&ch=WindowChrome&ic=Applications%2f32x32%2fabout.png&he=About+Sitecore&ma=0&mi=0&re=',\n",
       " \"http://www.fia.com.gr/wp')\",\n",
       " 'http://www.google.com/',\n",
       " 'http://www.google.com/humans.txt%23foo%3D',\n",
       " 'http://www.google.com/humans.txt%23foo%3D&Itemid=55',\n",
       " 'http://www.googlebot.com/bot.html',\n",
       " 'http://www.guiando.com.br/index.php?option=com_users&view=registration',\n",
       " 'http://www.naszaprzychodnia.info/includes/barao.txt?',\n",
       " 'http://www.rinkebyfolketshus.se/modules/tiger/m.txt?',\n",
       " 'http://www.sokal.lviv.ua/golos/images/gif/logx????',\n",
       " 'http://ya.ru=',\n",
       " \"http://yandex.ru/clck/jsredir?from=yandex.ru%3Bsearch%3Bweb%3B%3B&text=&etext=1182.7t')\",\n",
       " \"http://yandex.ru/clck/jsredir?from=yandex.ru%3Bsearch%3Bweb%3B%3B&text=&etext=1184.iEtR1QJ99IZ3EBL2LukfUNkol1Um_HlwvxE6c551CdX7lqCWKmdTOAQwh5x7Rv6P.d346643c4a4c5752e3c96060b226ae2d3031b99a&uuid=&state=_BLhILn4SxNIvvL0W45KSic66uCIg23qh8iRG98qeIXmeppkgUc0YGftRg9cP1erjBfVTUcXDXk&data=UlNrNmk5WktYejR0eWJFYk1LdmtxbW93X2dqZldEemREcGZVd3BNRGVWTXNvY1VGbHZSWVhIbzZDMVBFMHFFbkthWlp4QnMxOVNFcUZpTGdLaW5QTll6MTVDTFlwWkMwNjJFZGo4bkpmRFVDbmctZENQdU9Edw&b64e=2&sign=1822043b21c74bd22feade2cc1f4fdb6&keyno=0&cst=AiuY0DBWFJ7IXge4WdYJQe3IrxbPWIv4KIYtOrgvWR7wWPZw2usU0')\",\n",
       " \"http://yandex.ru/clck/jsredir?from=yandex.ru%3Bsearch%3Bweb%3B%3B&text=&etext=1623.VJAQ3zySbI1HZwsqK58u5Pq_sZ65gt0UPOsyrp13AZxBwBrEhJX3RXiAVsHKVffH.6c06780bc167fdbaa7f00e404a13a430a97fcd46&uuid=&state=_BLhILn4SxNIvvL0W45KSic66uCIg23qh8iRG98qeIXmeppkgUc0YMkOSpatjLUqgxH')\",\n",
       " 'https://outlook.live.com/',\n",
       " 'https://slack.com',\n",
       " \"https://translate.googleusercontent.com/translate_c?depth=1&hl=en&prev=search&rurl=translate.google.ca&sl=de&sp=nmt4&u=http://www.almhuette')\",\n",
       " \"https://translate.googleusercontent.com/translate_c?depth=1&hl=en&prev=search&rurl=translate.google.ca&sl=de&u=http://www.almhuette')\",\n",
       " \"https://translate.googleusercontent.com/translate_c?depth=1&hl=en&prev=search&rurl=translate.google.com&sl=de&sp=nmt4&u=http://www.almhuette')\",\n",
       " \"https://translate.googleusercontent.com/translate_c?depth=1&hl=fr&prev=search&rurl=translate.google.fr&sl=de&sp=nmt4&u=http://www.almhuette')\",\n",
       " \"https://translate.googleusercontent.com/translate_c?depth=1&hl=pt')\",\n",
       " \"https://www.almhuette')\",\n",
       " \"https://www.bing.com/search?q=H%C3%9CTTEN%20AUF%20DER%20Teichalm&input=1&form=MB1014&mkt=de')\",\n",
       " \"https://www.bing.com/search?q=almh%C3%BCtte%20raith&form=MB1078&mkt=de')\",\n",
       " \"https://www.bing.com/search?q=raith%20h%C3%BCtte&pivot=web&mkt=de')\"}"
      ]
     },
     "execution_count": 7,
     "metadata": {},
     "output_type": "execute_result"
    }
   ],
   "source": [
    "set(x.group(0) for x in \n",
    "    [re.search(\"https?://[^\\s]+\", str(x)) for x in df_404.select(['status']).collect()] \n",
    "    if x != None)"
   ]
  },
  {
   "cell_type": "markdown",
   "metadata": {},
   "source": [
    "### Verify there are no null columns in the original dataset\n"
   ]
  },
  {
   "cell_type": "code",
   "execution_count": 8,
   "metadata": {},
   "outputs": [
    {
     "name": "stdout",
     "output_type": "stream",
     "text": [
      "+-------+---+------+\n",
      "|browser| ip|status|\n",
      "+-------+---+------+\n",
      "|      0|  0|     0|\n",
      "+-------+---+------+\n",
      "\n"
     ]
    }
   ],
   "source": [
    "df.select([count(when(isnan(c) | col(c).isNull(), c)).alias(c) for c in df.columns]).show()"
   ]
  },
  {
   "cell_type": "code",
   "execution_count": 9,
   "metadata": {},
   "outputs": [
    {
     "name": "stdout",
     "output_type": "stream",
     "text": [
      "+--------+\n",
      "|count(1)|\n",
      "+--------+\n",
      "|  384739|\n",
      "+--------+\n",
      "\n"
     ]
    }
   ],
   "source": [
    "spark.sql(\"\"\"\n",
    "          select count(*) \n",
    "            from access \n",
    "           where lower(ip) in (\"\", \" \", \"null\") \n",
    "              or lower(status) in (\"\", \" \", \"null\") \n",
    "              or lower(browser) in (\"\", \" \", \"null\")\n",
    "          \"\"\").show()"
   ]
  },
  {
   "cell_type": "markdown",
   "metadata": {},
   "source": [
    "### Replace null values with constants such as 0\n"
   ]
  },
  {
   "cell_type": "code",
   "execution_count": 10,
   "metadata": {
    "scrolled": true
   },
   "outputs": [
    {
     "name": "stdout",
     "output_type": "stream",
     "text": [
      "+----------------+--------------------+--------------------+\n",
      "|              ip|              status|             browser|\n",
      "+----------------+--------------------+--------------------+\n",
      "|109.169.248.247 | [12/Dec/2015:18:...| Mozilla/5.0 (Win...|\n",
      "|109.169.248.247 | [12/Dec/2015:18:...|raith.at/administ...|\n",
      "|    46.72.177.4 | [12/Dec/2015:18:...| Mozilla/5.0 (Win...|\n",
      "|    46.72.177.4 | [12/Dec/2015:18:...|raith.at/administ...|\n",
      "| 83.167.113.100 | [12/Dec/2015:18:...| Mozilla/5.0 (Win...|\n",
      "+----------------+--------------------+--------------------+\n",
      "only showing top 5 rows\n",
      "\n"
     ]
    }
   ],
   "source": [
    "df_notNull = spark.sql(\"\"\"\n",
    "                       select CASE WHEN lower(ip) in (\"\", \" \", \"null\") THEN 0 ELSE ip END ip,\n",
    "                              CASE WHEN lower(status) in (\"\", \" \", \"null\") THEN 0 ELSE status END status,\n",
    "                              CASE WHEN lower(browser) in (\"\", \" \", \"null\") THEN 0 ELSE browser END browser\n",
    "                         from access\n",
    "                       \"\"\")\n",
    "df_notNull.show(5)"
   ]
  },
  {
   "cell_type": "markdown",
   "metadata": {},
   "source": [
    "### Parse timestamp to readable date\n"
   ]
  },
  {
   "cell_type": "code",
   "execution_count": 11,
   "metadata": {
    "scrolled": true
   },
   "outputs": [
    {
     "name": "stdout",
     "output_type": "stream",
     "text": [
      "+--------------------+----------------+--------------------+-----------+\n",
      "|             browser|              ip|              status|       date|\n",
      "+--------------------+----------------+--------------------+-----------+\n",
      "| Mozilla/5.0 (Win...|109.169.248.247 | [12/Dec/2015:18:...|12/Dec/2015|\n",
      "|raith.at/administ...|109.169.248.247 | [12/Dec/2015:18:...|12/Dec/2015|\n",
      "| Mozilla/5.0 (Win...|    46.72.177.4 | [12/Dec/2015:18:...|12/Dec/2015|\n",
      "|raith.at/administ...|    46.72.177.4 | [12/Dec/2015:18:...|12/Dec/2015|\n",
      "| Mozilla/5.0 (Win...| 83.167.113.100 | [12/Dec/2015:18:...|12/Dec/2015|\n",
      "+--------------------+----------------+--------------------+-----------+\n",
      "only showing top 5 rows\n",
      "\n"
     ]
    }
   ],
   "source": [
    "df.withColumn('date', substring(df['status'], 3, 11)).show(5)"
   ]
  },
  {
   "cell_type": "markdown",
   "metadata": {},
   "source": [
    "### Describe which HTTP status values appear in data and how many\n"
   ]
  },
  {
   "cell_type": "code",
   "execution_count": 14,
   "metadata": {},
   "outputs": [
    {
     "name": "stdout",
     "output_type": "stream",
     "text": [
      "Status 304: 6086 times\n",
      "Status 406: 53 times\n",
      "Status 405: 28 times\n",
      "Status 200: 950769 times\n",
      "Status 404: 192591 times\n",
      "Status 403: 1861 times\n",
      "Status 500: 2555 times\n",
      "Status 303: 247 times\n",
      "Status 301: 538 times\n",
      "Status 501: 93 times\n",
      "Status 400: 23 times\n",
      "Status 401: 2 times\n",
      "Status 206: 1880 times\n"
     ]
    }
   ],
   "source": [
    "http_status = [str(x).split(' ')[6] for x in df.select(['status']).collect() if len(str(x).split(' ')) > 6]\n",
    "for x in set(http_status):\n",
    "    if x != 'HTTP/1.1':\n",
    "        print(\"Status {}: {} times\".format(x, http_status.count(x)))"
   ]
  },
  {
   "cell_type": "markdown",
   "metadata": {},
   "source": [
    "### How many unique hosts are there in the entire log and their average request\n"
   ]
  },
  {
   "cell_type": "code",
   "execution_count": 13,
   "metadata": {},
   "outputs": [
    {
     "name": "stdout",
     "output_type": "stream",
     "text": [
      "+-----------------+\n",
      "|         avg(cnt)|\n",
      "+-----------------+\n",
      "|57.25355078851993|\n",
      "+-----------------+\n",
      "\n"
     ]
    }
   ],
   "source": [
    "spark.sql(\"\"\"\n",
    "          select avg(cnt) \n",
    "            from (select ip, count(*) cnt\n",
    "                    from access\n",
    "                   group by ip) t          \n",
    "          \"\"\").show()"
   ]
  }
 ],
 "metadata": {
  "kernelspec": {
   "display_name": "Python 3",
   "language": "python",
   "name": "python3"
  },
  "language_info": {
   "codemirror_mode": {
    "name": "ipython",
    "version": 3
   },
   "file_extension": ".py",
   "mimetype": "text/x-python",
   "name": "python",
   "nbconvert_exporter": "python",
   "pygments_lexer": "ipython3",
   "version": "3.5.2"
  }
 },
 "nbformat": 4,
 "nbformat_minor": 2
}
