{
 "cells": [
  {
   "cell_type": "markdown",
   "metadata": {},
   "source": [
    "# Ch26 - Classification"
   ]
  },
  {
   "cell_type": "code",
   "execution_count": 1,
   "metadata": {},
   "outputs": [],
   "source": [
    "bInput = spark.read.format(\"parquet\")\\\n",
    "    .load(\"../pyspark-training/data/The-Definitive-Guide/binary-classification\")\\\n",
    "    .selectExpr(\"features\", \"cast(label as double) as label\")"
   ]
  },
  {
   "cell_type": "code",
   "execution_count": 2,
   "metadata": {},
   "outputs": [
    {
     "name": "stdout",
     "output_type": "stream",
     "text": [
      "+--------------+-----+\n",
      "|      features|label|\n",
      "+--------------+-----+\n",
      "|[3.0,10.1,3.0]|  1.0|\n",
      "|[1.0,0.1,-1.0]|  0.0|\n",
      "|[1.0,0.1,-1.0]|  0.0|\n",
      "| [2.0,1.1,1.0]|  1.0|\n",
      "| [2.0,1.1,1.0]|  1.0|\n",
      "+--------------+-----+\n",
      "\n"
     ]
    }
   ],
   "source": [
    "bInput.show(5)"
   ]
  },
  {
   "cell_type": "markdown",
   "metadata": {},
   "source": [
    "## Models\n",
    "- Create a model and initiate hyperparameters as neccessary\n",
    "- Train the model with `fit()`\n",
    "- Make prediction with `transform()`\n",
    "- Evaluate prediction with evaluators or summary"
   ]
  },
  {
   "cell_type": "code",
   "execution_count": 3,
   "metadata": {},
   "outputs": [],
   "source": [
    "from pyspark.ml.classification import LogisticRegression, DecisionTreeClassifier,\\\n",
    "                                      RandomForestClassifier, GBTClassifier, NaiveBayes"
   ]
  },
  {
   "cell_type": "code",
   "execution_count": 4,
   "metadata": {},
   "outputs": [
    {
     "name": "stdout",
     "output_type": "stream",
     "text": [
      "aggregationDepth: suggested depth for treeAggregate (>= 2). (default: 2)\n",
      "elasticNetParam: the ElasticNet mixing parameter, in range [0, 1]. For alpha = 0, the penalty is an L2 penalty. For alpha = 1, it is an L1 penalty. (default: 0.0)\n",
      "family: The name of family which is a description of the label distribution to be used in the model. Supported options: auto, binomial, multinomial (default: auto)\n",
      "featuresCol: features column name. (default: features)\n",
      "fitIntercept: whether to fit an intercept term. (default: True)\n",
      "labelCol: label column name. (default: label)\n",
      "lowerBoundsOnCoefficients: The lower bounds on coefficients if fitting under bound constrained optimization. The bound matrix must be compatible with the shape (1, number of features) for binomial regression, or (number of classes, number of features) for multinomial regression. (undefined)\n",
      "lowerBoundsOnIntercepts: The lower bounds on intercepts if fitting under bound constrained optimization. The bounds vector size must beequal with 1 for binomial regression, or the number oflasses for multinomial regression. (undefined)\n",
      "maxIter: max number of iterations (>= 0). (default: 100)\n",
      "predictionCol: prediction column name. (default: prediction)\n",
      "probabilityCol: Column name for predicted class conditional probabilities. Note: Not all models output well-calibrated probability estimates! These probabilities should be treated as confidences, not precise probabilities. (default: probability)\n",
      "rawPredictionCol: raw prediction (a.k.a. confidence) column name. (default: rawPrediction)\n",
      "regParam: regularization parameter (>= 0). (default: 0.0)\n",
      "standardization: whether to standardize the training features before fitting the model. (default: True)\n",
      "threshold: Threshold in binary classification prediction, in range [0, 1]. If threshold and thresholds are both set, they must match.e.g. if threshold is p, then thresholds must be equal to [1-p, p]. (default: 0.5)\n",
      "thresholds: Thresholds in multi-class classification to adjust the probability of predicting each class. Array must have length equal to the number of classes, with values > 0, excepting that at most one value may be 0. The class with largest value p/t is predicted, where p is the original probability of that class and t is the class's threshold. (undefined)\n",
      "tol: the convergence tolerance for iterative algorithms (>= 0). (default: 1e-06)\n",
      "upperBoundsOnCoefficients: The upper bounds on coefficients if fitting under bound constrained optimization. The bound matrix must be compatible with the shape (1, number of features) for binomial regression, or (number of classes, number of features) for multinomial regression. (undefined)\n",
      "upperBoundsOnIntercepts: The upper bounds on intercepts if fitting under bound constrained optimization. The bound vector size must be equal with 1 for binomial regression, or the number of classes for multinomial regression. (undefined)\n",
      "weightCol: weight column name. If this is not set or empty, we treat all instance weights as 1.0. (undefined)\n"
     ]
    }
   ],
   "source": [
    "lr = LogisticRegression()\n",
    "print(lr.explainParams())\n",
    "lrModel = lr.fit(bInput)"
   ]
  },
  {
   "cell_type": "code",
   "execution_count": 5,
   "metadata": {},
   "outputs": [
    {
     "name": "stdout",
     "output_type": "stream",
     "text": [
      "[6.848741326855034,0.35356589010197487,14.814900276915889]\n",
      "-10.225695864480993\n"
     ]
    }
   ],
   "source": [
    "print(lrModel.coefficients)\n",
    "print(lrModel.intercept)"
   ]
  },
  {
   "cell_type": "markdown",
   "metadata": {},
   "source": [
    "### Summary"
   ]
  },
  {
   "cell_type": "code",
   "execution_count": 6,
   "metadata": {
    "scrolled": true
   },
   "outputs": [
    {
     "name": "stdout",
     "output_type": "stream",
     "text": [
      "1.0\n",
      "+---+------------------+\n",
      "|FPR|               TPR|\n",
      "+---+------------------+\n",
      "|0.0|               0.0|\n",
      "|0.0|0.3333333333333333|\n",
      "|0.0|               1.0|\n",
      "|1.0|               1.0|\n",
      "|1.0|               1.0|\n",
      "+---+------------------+\n",
      "\n",
      "+------------------+---------+\n",
      "|            recall|precision|\n",
      "+------------------+---------+\n",
      "|               0.0|      1.0|\n",
      "|0.3333333333333333|      1.0|\n",
      "|               1.0|      1.0|\n",
      "|               1.0|      0.6|\n",
      "+------------------+---------+\n",
      "\n"
     ]
    }
   ],
   "source": [
    "summary = lrModel.summary\n",
    "print(summary.areaUnderROC)\n",
    "summary.roc.show() # FPR = False Positive Rate; TPR = True Positive Rate\n",
    "summary.pr.show()"
   ]
  },
  {
   "cell_type": "markdown",
   "metadata": {},
   "source": [
    "### Summary Chart"
   ]
  },
  {
   "cell_type": "code",
   "execution_count": 7,
   "metadata": {},
   "outputs": [],
   "source": [
    "import matplotlib.pyplot as plt"
   ]
  },
  {
   "cell_type": "code",
   "execution_count": 8,
   "metadata": {},
   "outputs": [
    {
     "data": {
      "image/png": "[encoded data removed]",
      "text/plain": [
       "<matplotlib.figure.Figure at 0x2513639f9e8>"
      ]
     },
     "metadata": {
      "needs_background": "light"
     },
     "output_type": "display_data"
    }
   ],
   "source": [
    "roc = summary.roc.toPandas()\n",
    "plt.plot(roc['FPR'],roc['TPR'])\n",
    "plt.ylabel('False Positive Rate')\n",
    "plt.xlabel('True Positive Rate')\n",
    "plt.title('ROC Curve')\n",
    "plt.show()"
   ]
  },
  {
   "cell_type": "code",
   "execution_count": 9,
   "metadata": {},
   "outputs": [
    {
     "data": {
      "image/png": "[encoded data removed]",
      "text/plain": [
       "<matplotlib.figure.Figure at 0x25138414860>"
      ]
     },
     "metadata": {
      "needs_background": "light"
     },
     "output_type": "display_data"
    }
   ],
   "source": [
    "pr = summary.pr.toPandas()\n",
    "plt.plot(pr['recall'],pr['precision'])\n",
    "plt.ylabel('Precision')\n",
    "plt.xlabel('Recall')\n",
    "plt.show()"
   ]
  },
  {
   "cell_type": "code",
   "execution_count": 10,
   "metadata": {},
   "outputs": [
    {
     "data": {
      "text/plain": [
       "[0.6730116670092565,\n",
       " 0.5042829330409728,\n",
       " 0.36356862066874396,\n",
       " 0.1252407018038338,\n",
       " 0.08532556611276212,\n",
       " 0.03550487641573043,\n",
       " 0.01819649450857124,\n",
       " 0.008817369922959128,\n",
       " 0.004413673785392138,\n",
       " 0.002194038351234706,\n",
       " 0.001096564114808084,\n",
       " 0.0005476575519853136,\n",
       " 0.000273762379514901,\n",
       " 0.0001368465223657475,\n",
       " 6.84180903707058e-05,\n",
       " 3.4207077910384856e-05,\n",
       " 1.710317666423191e-05,\n",
       " 8.551470106426885e-06,\n",
       " 4.275703677941412e-06,\n",
       " 2.1378240117781396e-06,\n",
       " 1.0688564054651744e-06,\n",
       " 5.342600202575258e-07,\n",
       " 2.668135105897087e-07,\n",
       " 1.32046278653136e-07,\n",
       " 6.768401481681801e-08,\n",
       " 3.3145477184834547e-08,\n",
       " 1.6151438837488498e-08,\n",
       " 8.309350118268437e-09]"
      ]
     },
     "execution_count": 10,
     "metadata": {},
     "output_type": "execute_result"
    }
   ],
   "source": [
    "summary.objectiveHistory"
   ]
  },
  {
   "cell_type": "markdown",
   "metadata": {},
   "source": [
    "## Detailed Evaluation Metrics"
   ]
  },
  {
   "cell_type": "code",
   "execution_count": 11,
   "metadata": {},
   "outputs": [],
   "source": [
    "from pyspark.mllib.evaluation import BinaryClassificationMetrics"
   ]
  },
  {
   "cell_type": "code",
   "execution_count": 12,
   "metadata": {},
   "outputs": [],
   "source": [
    "# out = model.transform(bInput)\\\n",
    "#     .select(\"prediction\", \"label\")\\\n",
    "#     .rdd.map(lambda x: (float(x[0]), float(x[1])))\n",
    "# metrics = BinaryClassificationMetrics(out)"
   ]
  },
  {
   "cell_type": "markdown",
   "metadata": {},
   "source": [
    "# Ch27 - Regression"
   ]
  },
  {
   "cell_type": "code",
   "execution_count": 13,
   "metadata": {},
   "outputs": [],
   "source": [
    "df = spark.read.load(\"../pyspark-training/data/The-Definitive-Guide/regression\")"
   ]
  },
  {
   "cell_type": "markdown",
   "metadata": {},
   "source": [
    "## Models"
   ]
  },
  {
   "cell_type": "code",
   "execution_count": 14,
   "metadata": {},
   "outputs": [],
   "source": [
    "from pyspark.ml.regression import LinearRegression, GeneralizedLinearRegression,\\\n",
    "                                  DecisionTreeRegressor, RandomForestRegressor, GBTRegressor"
   ]
  },
  {
   "cell_type": "code",
   "execution_count": 15,
   "metadata": {},
   "outputs": [
    {
     "name": "stdout",
     "output_type": "stream",
     "text": [
      "aggregationDepth: suggested depth for treeAggregate (>= 2). (default: 2)\n",
      "elasticNetParam: the ElasticNet mixing parameter, in range [0, 1]. For alpha = 0, the penalty is an L2 penalty. For alpha = 1, it is an L1 penalty. (default: 0.0, current: 0.8)\n",
      "epsilon: The shape parameter to control the amount of robustness. Must be > 1.0. Only valid when loss is huber (default: 1.35)\n",
      "featuresCol: features column name. (default: features)\n",
      "fitIntercept: whether to fit an intercept term. (default: True)\n",
      "labelCol: label column name. (default: label)\n",
      "loss: The loss function to be optimized. Supported options: squaredError, huber. (default: squaredError)\n",
      "maxIter: max number of iterations (>= 0). (default: 100, current: 10)\n",
      "predictionCol: prediction column name. (default: prediction)\n",
      "regParam: regularization parameter (>= 0). (default: 0.0, current: 0.3)\n",
      "solver: The solver algorithm for optimization. Supported options: auto, normal, l-bfgs. (default: auto)\n",
      "standardization: whether to standardize the training features before fitting the model. (default: True)\n",
      "tol: the convergence tolerance for iterative algorithms (>= 0). (default: 1e-06)\n",
      "weightCol: weight column name. If this is not set or empty, we treat all instance weights as 1.0. (undefined)\n"
     ]
    }
   ],
   "source": [
    "lr = LinearRegression().setMaxIter(10).setRegParam(0.3).setElasticNetParam(0.8)\n",
    "print(lr.explainParams())\n",
    "lrModel = lr.fit(df)"
   ]
  },
  {
   "cell_type": "code",
   "execution_count": 16,
   "metadata": {},
   "outputs": [
    {
     "name": "stdout",
     "output_type": "stream",
     "text": [
      "family: The name of family which is a description of the error distribution to be used in the model. Supported options: gaussian (default), binomial, poisson, gamma and tweedie. (default: gaussian, current: gaussian)\n",
      "featuresCol: features column name. (default: features)\n",
      "fitIntercept: whether to fit an intercept term. (default: True)\n",
      "labelCol: label column name. (default: label)\n",
      "link: The name of link function which provides the relationship between the linear predictor and the mean of the distribution function. Supported options: identity, log, inverse, logit, probit, cloglog and sqrt. (current: identity)\n",
      "linkPower: The index in the power link function. Only applicable to the Tweedie family. (undefined)\n",
      "linkPredictionCol: link prediction (linear predictor) column name (current: linkOut)\n",
      "maxIter: max number of iterations (>= 0). (default: 25, current: 10)\n",
      "offsetCol: The offset column name. If this is not set or empty, we treat all instance offsets as 0.0 (undefined)\n",
      "predictionCol: prediction column name. (default: prediction)\n",
      "regParam: regularization parameter (>= 0). (default: 0.0, current: 0.3)\n",
      "solver: The solver algorithm for optimization. Supported options: irls. (default: irls)\n",
      "tol: the convergence tolerance for iterative algorithms (>= 0). (default: 1e-06)\n",
      "variancePower: The power in the variance function of the Tweedie distribution which characterizes the relationship between the variance and mean of the distribution. Only applicable for the Tweedie family. Supported values: 0 and [1, Inf). (default: 0.0)\n",
      "weightCol: weight column name. If this is not set or empty, we treat all instance weights as 1.0. (undefined)\n"
     ]
    }
   ],
   "source": [
    "glr = GeneralizedLinearRegression()\\\n",
    "    .setFamily(\"gaussian\")\\\n",
    "    .setLink(\"identity\")\\\n",
    "    .setMaxIter(10)\\\n",
    "    .setRegParam(0.3)\\\n",
    "    .setLinkPredictionCol(\"linkOut\")\n",
    "print(glr.explainParams())\n",
    "glrModel = glr.fit(df)"
   ]
  },
  {
   "cell_type": "markdown",
   "metadata": {},
   "source": [
    "### Training Summary"
   ]
  },
  {
   "cell_type": "code",
   "execution_count": 17,
   "metadata": {},
   "outputs": [
    {
     "name": "stdout",
     "output_type": "stream",
     "text": [
      "+--------------------+\n",
      "|           residuals|\n",
      "+--------------------+\n",
      "| 0.12805046585610147|\n",
      "| -0.1446826926157201|\n",
      "|-0.41903832622420606|\n",
      "|-0.41903832622420606|\n",
      "|  0.8547088792080306|\n",
      "+--------------------+\n",
      "\n",
      "6\n",
      "[0.5000000000000001, 0.43152958103627864, 0.313233593388102, 0.312256926665541, 0.30915060819830303, 0.30915058933480266]\n",
      "0.47308424392175985\n",
      "0.720239122691221\n"
     ]
    }
   ],
   "source": [
    "# Linear Regression\n",
    "summary = lrModel.summary\n",
    "summary.residuals.show()\n",
    "print(summary.totalIterations)\n",
    "print(summary.objectiveHistory)\n",
    "print(summary.rootMeanSquaredError)\n",
    "print(summary.r2)"
   ]
  },
  {
   "cell_type": "markdown",
   "metadata": {},
   "source": [
    "## Evaluators and Automating Model Tuning\n",
    "\n",
    "**Structure of Grid Search with Train/Validation Setting**\n",
    "\n",
    "- `CrossValidator()` & `TrainTestSplit()`\n",
    "    - `setEstimator()` \n",
    "        - `Pipeline().setStages()`: Pipeline with enclosed stages of transformer and estimator\n",
    "    - `setEstimatorParamMaps()` \n",
    "        - `ParamGridBuilder().addGrid().build()`\n",
    "    - `setEvaluator()` \n",
    "        - `RegressionEvaluator().setMetricName().setPredictionCol().setLabelCol()`\n",
    "\n",
    "\n",
    "- `CrossValidator()` Only\n",
    "    - `setNumFolds()`\n",
    "\n",
    "\n",
    "- `TrainTestSplit()` Only\n",
    "    - `setTrainRatio()`"
   ]
  },
  {
   "cell_type": "code",
   "execution_count": 18,
   "metadata": {},
   "outputs": [],
   "source": [
    "from pyspark.ml.evaluation import RegressionEvaluator\n",
    "from pyspark.ml import Pipeline\n",
    "from pyspark.ml.tuning import CrossValidator, ParamGridBuilder"
   ]
  },
  {
   "cell_type": "code",
   "execution_count": 19,
   "metadata": {},
   "outputs": [],
   "source": [
    "# Create Estimator object(s)\n",
    "glr = GeneralizedLinearRegression().setFamily(\"gaussian\").setLink(\"identity\")\n",
    "# Pass on Estimator (and Transformer if any) object(s) to create Pipeline object\n",
    "pipeline = Pipeline().setStages([glr])\n",
    "\n",
    "# Create Parameter object\n",
    "params = ParamGridBuilder().addGrid(glr.regParam, [0, 0.5, 1]).build()\n",
    "# Create Evaluator object\n",
    "evaluator = RegressionEvaluator().setMetricName(\"rmse\").setPredictionCol(\"prediction\").setLabelCol(\"label\")\n",
    "\n",
    "# Pass On Pipeline, Evaluator, and Parameter objects to create CrossValidator object\n",
    "cv = CrossValidator().setEstimator(pipeline).setEvaluator(evaluator).setEstimatorParamMaps(params)\\\n",
    "    .setNumFolds(2) # Should always be 3 or more but this dataset is small\n",
    "\n",
    "# When using train - test split\n",
    "tvs = TrainValidationSplit()\\\n",
    "    .setTrainRatio(0.75)\\\n",
    "    .setEstimatorParamMaps(params)\\\n",
    "    .setEstimator(pipeline)\\\n",
    "    .setEvaluator(evaluator)\n",
    "\n",
    "model = cv.fit(df)"
   ]
  },
  {
   "cell_type": "markdown",
   "metadata": {},
   "source": [
    "## Metrics"
   ]
  },
  {
   "cell_type": "code",
   "execution_count": 20,
   "metadata": {},
   "outputs": [],
   "source": [
    "from pyspark.mllib.evaluation import RegressionMetrics"
   ]
  },
  {
   "cell_type": "code",
   "execution_count": 21,
   "metadata": {},
   "outputs": [
    {
     "name": "stdout",
     "output_type": "stream",
     "text": [
      "MSE: 0.21432448963739983\n",
      "RMSE: 0.4629519301584127\n",
      "R-squared: 0.7320943879532502\n",
      "MAE: 0.34692281471051273\n",
      "Explained variance: 0.32923447021104896\n"
     ]
    }
   ],
   "source": [
    "out = model.transform(df).select(\"prediction\", \"label\")\\\n",
    "    .rdd.map(lambda x: (float(x[0]), float(x[1])))\n",
    "metrics = RegressionMetrics(out)\n",
    "print(\"MSE:\", str(metrics.meanSquaredError))\n",
    "print(\"RMSE:\", str(metrics.rootMeanSquaredError))\n",
    "print(\"R-squared:\", str(metrics.r2))\n",
    "print(\"MAE:\", str(metrics.meanAbsoluteError))\n",
    "print(\"Explained variance:\", str(metrics.explainedVariance))"
   ]
  },
  {
   "cell_type": "markdown",
   "metadata": {},
   "source": [
    "# Ch28 - Recommendation"
   ]
  },
  {
   "cell_type": "markdown",
   "metadata": {},
   "source": [
    "## Model"
   ]
  },
  {
   "cell_type": "code",
   "execution_count": 22,
   "metadata": {},
   "outputs": [],
   "source": [
    "from pyspark.ml.recommendation import ALS\n",
    "from pyspark.sql import Row"
   ]
  },
  {
   "cell_type": "code",
   "execution_count": 23,
   "metadata": {},
   "outputs": [
    {
     "name": "stdout",
     "output_type": "stream",
     "text": [
      "<bound method Params.explainParams of ALS_dfd75a9cd8c9>\n"
     ]
    }
   ],
   "source": [
    "ratings = spark.read.text(\"../pyspark-training/data/The-Definitive-Guide/sample_movielens_ratings.txt\")\\\n",
    "    .rdd.toDF()\\\n",
    "    .selectExpr(\"split(value, '::') as col\")\\\n",
    "    .selectExpr(\n",
    "        \"cast(col[0] as int) as userId\",\n",
    "        \"cast(col[1] as int) as movieId\",\n",
    "        \"cast(col[2] as float) as rating\",\n",
    "        \"cast(col[3] as long) as timestamp\"\n",
    "    )\n",
    "training, test = ratings.randomSplit([0.8, 0.2])\n",
    "als = ALS().setMaxIter(5).setRegParam(0.01).setUserCol(\"userId\").setItemCol(\"movieId\").setRatingCol(\"rating\")\n",
    "print(als.explainParams)\n",
    "alsModel = als.fit(training)\n",
    "predictions = alsModel.transform(test)"
   ]
  },
  {
   "cell_type": "code",
   "execution_count": 24,
   "metadata": {},
   "outputs": [
    {
     "name": "stdout",
     "output_type": "stream",
     "text": [
      "+------+---------------+\n",
      "|userId|            col|\n",
      "+------+---------------+\n",
      "|    28|[92, 5.0621486]|\n",
      "|    28|[81, 4.8624105]|\n",
      "|    28|[12, 4.6510425]|\n",
      "|    28| [89, 4.108014]|\n",
      "|    28|[49, 4.0182137]|\n",
      "|    28|[82, 3.7844157]|\n",
      "|    28|  [41, 3.30325]|\n",
      "|    28|[76, 3.2404213]|\n",
      "|    28|[46, 3.2176628]|\n",
      "|    28|[62, 3.1551807]|\n",
      "|    26|[11, 6.7013187]|\n",
      "|    26| [34, 6.008671]|\n",
      "|    26|[28, 5.7876697]|\n",
      "|    26| [38, 5.566817]|\n",
      "|    26|[39, 5.5340753]|\n",
      "|    26|[47, 5.5142612]|\n",
      "|    26| [83, 5.421278]|\n",
      "|    26| [88, 5.370325]|\n",
      "|    26| [94, 5.078953]|\n",
      "|    26|   [7, 5.01875]|\n",
      "+------+---------------+\n",
      "only showing top 20 rows\n",
      "\n",
      "+-------+---------------+\n",
      "|movieId|            col|\n",
      "+-------+---------------+\n",
      "|     31|[21, 3.9870138]|\n",
      "|     31| [25, 3.833418]|\n",
      "|     31| [12, 3.769397]|\n",
      "|     31| [6, 3.0408583]|\n",
      "|     31| [8, 2.9987729]|\n",
      "|     31| [7, 2.9306672]|\n",
      "|     31|[23, 2.6415813]|\n",
      "|     31| [10, 2.518232]|\n",
      "|     31| [2, 2.5009112]|\n",
      "|     31|[15, 2.2827435]|\n",
      "|     85| [16, 4.940471]|\n",
      "|     85| [8, 4.3128605]|\n",
      "|     85|  [7, 4.275573]|\n",
      "|     85| [14, 3.888347]|\n",
      "|     85|  [5, 3.553313]|\n",
      "|     85|[10, 3.5431862]|\n",
      "|     85| [21, 3.442137]|\n",
      "|     85| [6, 3.2901132]|\n",
      "|     85|[19, 2.8857458]|\n",
      "|     85| [1, 2.7870703]|\n",
      "+-------+---------------+\n",
      "only showing top 20 rows\n",
      "\n"
     ]
    }
   ],
   "source": [
    "alsModel.recommendForAllUsers(10).selectExpr(\"userId\", \"explode(recommendations)\").show()\n",
    "alsModel.recommendForAllItems(10).selectExpr(\"movieId\", \"explode(recommendations)\").show()"
   ]
  },
  {
   "cell_type": "markdown",
   "metadata": {},
   "source": [
    "## Evaluation for Recommendation"
   ]
  },
  {
   "cell_type": "code",
   "execution_count": 25,
   "metadata": {},
   "outputs": [
    {
     "name": "stdout",
     "output_type": "stream",
     "text": [
      "Root-mean-square error = 1.6401660064853094\n"
     ]
    }
   ],
   "source": [
    "evaluator = RegressionEvaluator().setMetricName(\"rmse\").setLabelCol(\"rating\").setPredictionCol(\"prediction\")\n",
    "rmse = evaluator.evaluate(predictions)\n",
    "print(\"Root-mean-square error = {}\".format(rmse))"
   ]
  },
  {
   "cell_type": "markdown",
   "metadata": {},
   "source": [
    "## Metrics\n",
    "### Regression Metrics -  Same Case as Regression"
   ]
  },
  {
   "cell_type": "code",
   "execution_count": 26,
   "metadata": {},
   "outputs": [],
   "source": [
    "# regComparison = predictions.select(\"rating\", \"prediction\")\\\n",
    "#     .rdd.map(lambda x: (x(0), x(1)))\n",
    "# metrics = RegressionMetrics(regComparison)\n",
    "# print(\"RMSE:\", str(metrics.rootMeanSquaredError))"
   ]
  },
  {
   "cell_type": "markdown",
   "metadata": {},
   "source": [
    "### Ranking Metrics"
   ]
  },
  {
   "cell_type": "code",
   "execution_count": 27,
   "metadata": {},
   "outputs": [],
   "source": [
    "from pyspark.mllib.evaluation import RankingMetrics\n",
    "from pyspark.sql.functions import col, expr"
   ]
  },
  {
   "cell_type": "code",
   "execution_count": 28,
   "metadata": {},
   "outputs": [],
   "source": [
    "# perUserActual = predictions.where(\"rating > 2.5\").groupBy(\"userId\").agg(expr(\"collect_set(movieId) as movies\"))\n",
    "# perUserPredictions = predictions.orderBy(col(\"userId\"), expr(\"prediction DESC\"))\\\n",
    "#     .groupBy(\"userId\").agg(expr(\"collect_list(movieId) as movies\"))\n",
    "# perUserActualvPred = perUserActual.join(perUserPredictions, [\"userId\"]).rdd\\\n",
    "#     .map(lambda row: (row[1], row[2][:15]))\n",
    "# ranks = RankingMetrics(perUserActualvPred)\n",
    "# ranks.meanAveragePrecision\n",
    "# ranks.precisionAt(5)"
   ]
  },
  {
   "cell_type": "markdown",
   "metadata": {},
   "source": [
    "# Ch29 - Unsupervised Learning"
   ]
  },
  {
   "cell_type": "code",
   "execution_count": 29,
   "metadata": {},
   "outputs": [],
   "source": [
    "from pyspark.ml.feature import VectorAssembler"
   ]
  },
  {
   "cell_type": "code",
   "execution_count": 31,
   "metadata": {},
   "outputs": [
    {
     "data": {
      "text/plain": [
       "DataFrame[InvoiceNo: string, StockCode: string, Description: string, Quantity: int, InvoiceDate: timestamp, UnitPrice: double, CustomerID: double, Country: string, features: vector]"
      ]
     },
     "execution_count": 31,
     "metadata": {},
     "output_type": "execute_result"
    }
   ],
   "source": [
    "va = VectorAssembler().setInputCols([\"Quantity\", \"UnitPrice\"]).setOutputCol(\"features\")\n",
    "sales = va.transform(spark.read.format(\"csv\")\n",
    "                     .option(\"header\", \"true\")\n",
    "                     .option(\"inferSchema\", \"true\")\n",
    "                     .load(\"../pyspark-training/data/The-Definitive-Guide/retail-data/by-day/*.csv\")\n",
    "                     .limit(50)\n",
    "                     .coalesce(1)\n",
    "                     .where(\"Description IS NOT NULL\"))\n",
    "sales.cache()"
   ]
  },
  {
   "cell_type": "markdown",
   "metadata": {},
   "source": [
    "## Clustering Models\n",
    "- Create a model and initiate hyperparameters as neccessary\n",
    "- Train clustering model with `fit()`\n",
    "- Use `.summary` to access the results\n",
    "- `transform()` is not needed for clustering"
   ]
  },
  {
   "cell_type": "code",
   "execution_count": 32,
   "metadata": {},
   "outputs": [],
   "source": [
    "from pyspark.ml.clustering import KMeans, BisectingKMeans, GaussianMixture"
   ]
  },
  {
   "cell_type": "code",
   "execution_count": 33,
   "metadata": {},
   "outputs": [
    {
     "name": "stdout",
     "output_type": "stream",
     "text": [
      "distanceMeasure: the distance measure. Supported options: 'euclidean' and 'cosine'. (default: euclidean)\n",
      "featuresCol: features column name. (default: features)\n",
      "initMode: The initialization algorithm. This can be either \"random\" to choose random points as initial cluster centers, or \"k-means||\" to use a parallel variant of k-means++ (default: k-means||)\n",
      "initSteps: The number of steps for k-means|| initialization mode. Must be > 0. (default: 2)\n",
      "k: The number of clusters to create. Must be > 1. (default: 2, current: 5)\n",
      "maxIter: max number of iterations (>= 0). (default: 20)\n",
      "predictionCol: prediction column name. (default: prediction)\n",
      "seed: random seed. (default: 7969353092125344463)\n",
      "tol: the convergence tolerance for iterative algorithms (>= 0). (default: 0.0001)\n"
     ]
    }
   ],
   "source": [
    "km = KMeans().setK(5)\n",
    "print(km.explainParams())\n",
    "kmModel = km.fit(sales)"
   ]
  },
  {
   "cell_type": "code",
   "execution_count": 34,
   "metadata": {},
   "outputs": [],
   "source": [
    "bkm = BisectingKMeans().setK(5).setMaxIter(5)\n",
    "bkmModel = bkm.fit(sales)"
   ]
  },
  {
   "cell_type": "code",
   "execution_count": 35,
   "metadata": {},
   "outputs": [
    {
     "name": "stdout",
     "output_type": "stream",
     "text": [
      "featuresCol: features column name. (default: features)\n",
      "k: Number of independent Gaussians in the mixture model. Must be > 1. (default: 2, current: 5)\n",
      "maxIter: max number of iterations (>= 0). (default: 100)\n",
      "predictionCol: prediction column name. (default: prediction)\n",
      "probabilityCol: Column name for predicted class conditional probabilities. Note: Not all models output well-calibrated probability estimates! These probabilities should be treated as confidences, not precise probabilities. (default: probability)\n",
      "seed: random seed. (default: -7090211980209472397)\n",
      "tol: the convergence tolerance for iterative algorithms (>= 0). (default: 0.01)\n"
     ]
    }
   ],
   "source": [
    "gmm = GaussianMixture().setK(5)\n",
    "print(gmm.explainParams())\n",
    "model = gmm.fit(sales)"
   ]
  },
  {
   "cell_type": "markdown",
   "metadata": {},
   "source": [
    "## Summary"
   ]
  },
  {
   "cell_type": "code",
   "execution_count": 51,
   "metadata": {
    "scrolled": true
   },
   "outputs": [
    {
     "name": "stdout",
     "output_type": "stream",
     "text": [
      "[29, 15, 1, 1, 4]\n",
      "Cluster Centers:\n",
      "[4.89655172 4.72137931]\n",
      "[25.06666667  1.78866667]\n",
      "[80.    2.55]\n",
      "[48.    0.85]\n",
      "[13.5    2.825]\n"
     ]
    }
   ],
   "source": [
    "summary = kmModel.summary\n",
    "print(summary.clusterSizes)\n",
    "kmModel.computeCost(sales)\n",
    "kmCenters = kmModel.clusterCenters()\n",
    "print(\"Cluster Centers:\")\n",
    "for center in kmCenters:\n",
    "    print(center)"
   ]
  },
  {
   "cell_type": "code",
   "execution_count": 52,
   "metadata": {},
   "outputs": [
    {
     "name": "stdout",
     "output_type": "stream",
     "text": [
      "[12, 17, 3, 16, 2]\n",
      "Cluster Centers:\n",
      "[3.         7.42916667]\n",
      "[6.23529412 2.81      ]\n",
      "[12.          2.78333333]\n",
      "[24.625    1.86125]\n",
      "[64.   1.7]\n"
     ]
    }
   ],
   "source": [
    "summary = bkmModel.summary\n",
    "print(summary.clusterSizes)\n",
    "bkmModel.computeCost(sales)\n",
    "bkmCenters = bkmModel.clusterCenters()\n",
    "print(\"Cluster Centers:\")\n",
    "for center in bkmCenters:\n",
    "    print(center)"
   ]
  },
  {
   "cell_type": "code",
   "execution_count": 42,
   "metadata": {},
   "outputs": [],
   "source": [
    "import pandas as pd"
   ]
  },
  {
   "cell_type": "code",
   "execution_count": 53,
   "metadata": {},
   "outputs": [
    {
     "data": {
      "image/png": "[encoded data removed]",
      "text/plain": [
       "<matplotlib.figure.Figure at 0x25138b35668>"
      ]
     },
     "metadata": {
      "needs_background": "light"
     },
     "output_type": "display_data"
    }
   ],
   "source": [
    "kmCentersDF = pd.DataFrame(kmCenters)\n",
    "bkmCentersDF = pd.DataFrame(bkmCenters)\n",
    "plt.scatter(kmCentersDF[0], kmCentersDF[1])\n",
    "plt.scatter(bkmCentersDF[0], bkmCentersDF[1], c ='red')\n",
    "plt.xlabel('x')\n",
    "plt.ylabel('y')\n",
    "plt.show()"
   ]
  },
  {
   "cell_type": "code",
   "execution_count": 38,
   "metadata": {},
   "outputs": [
    {
     "name": "stdout",
     "output_type": "stream",
     "text": [
      "[0.2399996030990126, 0.05999804365295938, 0.06000000144287213, 0.5349932359615557, 0.10500911584360029]\n",
      "+--------------------+--------------------+\n",
      "|                mean|                 cov|\n",
      "+--------------------+--------------------+\n",
      "|[23.9999999997347...|5.651154675086383...|\n",
      "|[21.3333269377375...|67.55387092707048...|\n",
      "|[54.6666659279453...|344.8889033071298...|\n",
      "|[4.76092860596662...|2.855833868722962...|\n",
      "|[10.7894157575791...|18.69223755455921...|\n",
      "+--------------------+--------------------+\n",
      "\n",
      "+----------+\n",
      "|prediction|\n",
      "+----------+\n",
      "|         3|\n",
      "|         3|\n",
      "|         3|\n",
      "|         3|\n",
      "|         3|\n",
      "|         3|\n",
      "|         4|\n",
      "|         3|\n",
      "|         3|\n",
      "|         1|\n",
      "|         3|\n",
      "|         3|\n",
      "|         4|\n",
      "|         3|\n",
      "|         4|\n",
      "|         3|\n",
      "|         3|\n",
      "|         3|\n",
      "|         3|\n",
      "|         3|\n",
      "+----------+\n",
      "only showing top 20 rows\n",
      "\n",
      "+--------------------+\n",
      "|         probability|\n",
      "+--------------------+\n",
      "|[1.51694832611081...|\n",
      "|[1.48944049771939...|\n",
      "|[1.06558046296148...|\n",
      "|[1.48944049771939...|\n",
      "|[1.48944049771939...|\n",
      "|[4.52182108042058...|\n",
      "|[7.41987624207300...|\n",
      "|[1.67141349400811...|\n",
      "|[1.67141349400811...|\n",
      "|[8.17429916694908...|\n",
      "|[1.60080990076837...|\n",
      "|[1.60080990076837...|\n",
      "|[6.69303184475323...|\n",
      "|[1.74197618265773...|\n",
      "|[7.41987624207300...|\n",
      "|[2.77936991939351...|\n",
      "|[5.07983057253080...|\n",
      "|[2.16395049369162...|\n",
      "|[2.16395049369162...|\n",
      "|[1.78401758580670...|\n",
      "+--------------------+\n",
      "only showing top 20 rows\n",
      "\n"
     ]
    }
   ],
   "source": [
    "summary = model.summary\n",
    "print(model.weights)\n",
    "model.gaussiansDF.show()\n",
    "summary.cluster.show()\n",
    "summary.clusterSizes\n",
    "summary.probability.show()"
   ]
  }
 ],
 "metadata": {
  "kernelspec": {
   "display_name": "Python 3",
   "language": "python",
   "name": "python3"
  },
  "language_info": {
   "codemirror_mode": {
    "name": "ipython",
    "version": 3
   },
   "file_extension": ".py",
   "mimetype": "text/x-python",
   "name": "python",
   "nbconvert_exporter": "python",
   "pygments_lexer": "ipython3",
   "version": "3.5.2"
  }
 },
 "nbformat": 4,
 "nbformat_minor": 2
}
