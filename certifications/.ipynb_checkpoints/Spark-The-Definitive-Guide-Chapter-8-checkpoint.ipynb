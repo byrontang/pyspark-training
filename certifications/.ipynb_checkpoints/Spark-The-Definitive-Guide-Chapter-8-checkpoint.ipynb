{
 "cells": [
  {
   "cell_type": "markdown",
   "metadata": {},
   "source": [
    "# Chapter 8 - Joins"
   ]
  },
  {
   "cell_type": "code",
   "execution_count": 2,
   "metadata": {},
   "outputs": [],
   "source": [
    "# Sample DataFrems\n",
    "person = spark.createDataFrame([\n",
    "    (0, \"Bill\", 0, [100]),\n",
    "    (1, \"Matei\", 1, [500, 250, 100]),\n",
    "    (2, \"Michael\", 1, [250, 100])\n",
    "]).toDF(\"id\", \"name\", \"graduate_program\", \"spark_status\")\n",
    "\n",
    "graduateProgram = spark.createDataFrame([\n",
    "    (0, \"Masters\", \"School of Information\"),\n",
    "    (2, \"Masters\", \"EECS\"),\n",
    "    (1, \"Ph.D\", \"EECS\")\n",
    "]).toDF(\"id\", \"degree\", \"department\")\n",
    "\n",
    "sparkStatus = spark.createDataFrame([\n",
    "    (500, \"Vice President\"),\n",
    "    (250, \"PMC Member\"),\n",
    "    (100, \"Contributor\")\n",
    "]).toDF(\"id\", \"status\")"
   ]
  },
  {
   "cell_type": "code",
   "execution_count": 3,
   "metadata": {},
   "outputs": [
    {
     "name": "stdout",
     "output_type": "stream",
     "text": [
      "+---+-------+----------------+---------------+---+-------+--------------------+\n",
      "| id|   name|graduate_program|   spark_status| id| degree|          department|\n",
      "+---+-------+----------------+---------------+---+-------+--------------------+\n",
      "|  0|   Bill|               0|          [100]|  0|Masters|School of Informa...|\n",
      "|  1|  Matei|               1|[500, 250, 100]|  1|   Ph.D|                EECS|\n",
      "|  2|Michael|               1|     [250, 100]|  1|   Ph.D|                EECS|\n",
      "+---+-------+----------------+---------------+---+-------+--------------------+\n",
      "\n"
     ]
    }
   ],
   "source": [
    "# Default JoinType is inner join\n",
    "joinExpression = person[\"graduate_program\"] == graduateProgram[\"id\"]\n",
    "joinType = \"inner\" # More joinType: \"outer\", \"left_outer\", \"right_outer\", \"left_semi\", \"left_anti\", \"cross\"\n",
    "person.join(graduateProgram, joinExpression, joinType).show()"
   ]
  },
  {
   "cell_type": "markdown",
   "metadata": {},
   "source": [
    "## Joins on Complex Types"
   ]
  },
  {
   "cell_type": "code",
   "execution_count": 5,
   "metadata": {},
   "outputs": [],
   "source": [
    "from pyspark.sql.functions import expr"
   ]
  },
  {
   "cell_type": "code",
   "execution_count": 6,
   "metadata": {},
   "outputs": [
    {
     "name": "stdout",
     "output_type": "stream",
     "text": [
      "+--------+-------+----------------+---------------+---+--------------+\n",
      "|personId|   name|graduate_program|   spark_status| id|        status|\n",
      "+--------+-------+----------------+---------------+---+--------------+\n",
      "|       0|   Bill|               0|          [100]|100|   Contributor|\n",
      "|       1|  Matei|               1|[500, 250, 100]|500|Vice President|\n",
      "|       1|  Matei|               1|[500, 250, 100]|250|    PMC Member|\n",
      "|       1|  Matei|               1|[500, 250, 100]|100|   Contributor|\n",
      "|       2|Michael|               1|     [250, 100]|250|    PMC Member|\n",
      "|       2|Michael|               1|     [250, 100]|100|   Contributor|\n",
      "+--------+-------+----------------+---------------+---+--------------+\n",
      "\n"
     ]
    }
   ],
   "source": [
    "person.withColumnRenamed(\"id\", \"personId\")\\\n",
    "    .join(sparkStatus, expr(\"array_contains(spark_status, id)\")).show()"
   ]
  },
  {
   "cell_type": "markdown",
   "metadata": {},
   "source": [
    "## Handling Duplicate Column\n",
    "### Approach 1: Different join expression\n",
    "Changing the join expression from a Boolean expression to a string or sequence will automatically remove one of the columns."
   ]
  },
  {
   "cell_type": "code",
   "execution_count": 6,
   "metadata": {},
   "outputs": [
    {
     "name": "stdout",
     "output_type": "stream",
     "text": [
      "+----------------+---+-------+---------------+-------+--------------------+\n",
      "|graduate_program| id|   name|   spark_status| degree|          department|\n",
      "+----------------+---+-------+---------------+-------+--------------------+\n",
      "|               0|  0|   Bill|          [100]|Masters|School of Informa...|\n",
      "|               1|  1|  Matei|[500, 250, 100]|   Ph.D|                EECS|\n",
      "|               1|  2|Michael|     [250, 100]|   Ph.D|                EECS|\n",
      "+----------------+---+-------+---------------+-------+--------------------+\n",
      "\n"
     ]
    }
   ],
   "source": [
    "gradProgramDupe = graduateProgram.withColumnRenamed(\"id\", \"graduate_program\")\n",
    "person.join(gradProgramDupe, \"graduate_program\").show()"
   ]
  },
  {
   "cell_type": "markdown",
   "metadata": {},
   "source": [
    "### Approach 2: Drop the column after the join"
   ]
  },
  {
   "cell_type": "code",
   "execution_count": 10,
   "metadata": {},
   "outputs": [
    {
     "name": "stdout",
     "output_type": "stream",
     "text": [
      "+---+-------+---------------+----------------+-------+--------------------+\n",
      "| id|   name|   spark_status|graduate_program| degree|          department|\n",
      "+---+-------+---------------+----------------+-------+--------------------+\n",
      "|  0|   Bill|          [100]|               0|Masters|School of Informa...|\n",
      "|  1|  Matei|[500, 250, 100]|               1|   Ph.D|                EECS|\n",
      "|  2|Michael|     [250, 100]|               1|   Ph.D|                EECS|\n",
      "+---+-------+---------------+----------------+-------+--------------------+\n",
      "\n"
     ]
    }
   ],
   "source": [
    "person.join(gradProgramDupe, person[\"graduate_program\"] == gradProgramDupe[\"graduate_program\"])\\\n",
    "    .drop(person[\"graduate_program\"]).show()"
   ]
  }
 ],
 "metadata": {
  "kernelspec": {
   "display_name": "Python 3",
   "language": "python",
   "name": "python3"
  },
  "language_info": {
   "codemirror_mode": {
    "name": "ipython",
    "version": 3
   },
   "file_extension": ".py",
   "mimetype": "text/x-python",
   "name": "python",
   "nbconvert_exporter": "python",
   "pygments_lexer": "ipython3",
   "version": "3.5.2"
  }
 },
 "nbformat": 4,
 "nbformat_minor": 2
}
