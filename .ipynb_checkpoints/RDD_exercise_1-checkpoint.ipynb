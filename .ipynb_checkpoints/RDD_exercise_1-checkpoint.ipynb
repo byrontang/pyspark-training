{
 "cells": [
  {
   "cell_type": "code",
   "execution_count": 1,
   "metadata": {},
   "outputs": [],
   "source": [
    "from pyspark import SparkContext, SparkConf"
   ]
  },
  {
   "cell_type": "code",
   "execution_count": 2,
   "metadata": {},
   "outputs": [],
   "source": [
    "app_name = 'apple_store'"
   ]
  },
  {
   "cell_type": "code",
   "execution_count": 3,
   "metadata": {},
   "outputs": [],
   "source": [
    "conf = SparkConf().setAppName(app_name)\n",
    "sc = SparkContext.getOrCreate(conf=conf)"
   ]
  },
  {
   "cell_type": "code",
   "execution_count": 4,
   "metadata": {},
   "outputs": [
    {
     "data": {
      "text/plain": [
       "'local-1576431340481'"
      ]
     },
     "execution_count": 4,
     "metadata": {},
     "output_type": "execute_result"
    }
   ],
   "source": [
    "sc.applicationId"
   ]
  },
  {
   "cell_type": "code",
   "execution_count": 5,
   "metadata": {},
   "outputs": [
    {
     "data": {
      "text/plain": [
       "['\"\",\"id\",\"track_name\",\"size_bytes\",\"currency\",\"price\",\"rating_count_tot\",\"rating_count_ver\",\"user_rating\",\"user_rating_ver\",\"ver\",\"cont_rating\",\"prime_genre\",\"sup_devices.num\",\"ipadSc_urls.num\",\"lang.num\",\"vpp_lic\"',\n",
       " '\"1\",\"281656475\",\"PAC-MAN Premium\",100788224,\"USD\",3.99,21292,26,4,4.5,\"6.3.5\",\"4+\",\"Games\",38,5,10,1']"
      ]
     },
     "execution_count": 5,
     "metadata": {},
     "output_type": "execute_result"
    }
   ],
   "source": [
    "# load dataset\n",
    "app_store = sc.textFile('..\\pyspark-training\\data\\AppleStore.csv')\n",
    "app_store.take(2)"
   ]
  },
  {
   "cell_type": "code",
   "execution_count": 6,
   "metadata": {},
   "outputs": [
    {
     "data": {
      "text/plain": [
       "[['\"1\"',\n",
       "  '\"281656475\"',\n",
       "  '\"PAC-MAN Premium\"',\n",
       "  '100788224',\n",
       "  '\"USD\"',\n",
       "  '3.99',\n",
       "  '21292',\n",
       "  '26',\n",
       "  '4',\n",
       "  '4.5',\n",
       "  '\"6.3.5\"',\n",
       "  '\"4+\"',\n",
       "  '\"Games\"',\n",
       "  '38',\n",
       "  '5',\n",
       "  '10',\n",
       "  '1']]"
      ]
     },
     "execution_count": 6,
     "metadata": {},
     "output_type": "execute_result"
    }
   ],
   "source": [
    "# Parse data\n",
    "apps = app_store.map(lambda x: x.replace(\", \", \" \")\n",
    "                    ).map(lambda x: x.split(',')\n",
    "                         ).filter(lambda x: x[0] != '\"\"'\n",
    "                                 ).filter(lambda x: len(x)==17)\n",
    "apps.take(1)"
   ]
  },
  {
   "cell_type": "code",
   "execution_count": 15,
   "metadata": {},
   "outputs": [
    {
     "name": "stdout",
     "output_type": "stream",
     "text": [
      "[100.788224, 158.578688, 100.524032, 128.512, 92.7744]\n",
      "[0.100788224, 0.158578688, 0.100524032, 0.128512, 0.0927744]\n"
     ]
    }
   ],
   "source": [
    "# Convert bytes to MB and GB\n",
    "size_bytes_mb = apps.map(lambda x: float(x[3])/1000000)\n",
    "size_bytes_gb = apps.map(lambda x: float(x[3])/1000000000)\n",
    "print(size_bytes_mb.take(5))\n",
    "print(size_bytes_gb.take(5))"
   ]
  },
  {
   "cell_type": "code",
   "execution_count": 8,
   "metadata": {},
   "outputs": [
    {
     "data": {
      "text/plain": [
       "['\"Facebook\": 2974676',\n",
       " '\"Instagram\": 2161558',\n",
       " '\"Clash of Clans\": 2130805',\n",
       " '\"Temple Run\": 1724546',\n",
       " '\"Pandora - Music & Radio\": 1126879',\n",
       " '\"Pinterest\": 1061624',\n",
       " '\"Bible\": 985920',\n",
       " '\"Candy Crush Saga\": 961794',\n",
       " '\"Spotify Music\": 878563',\n",
       " '\"Angry Birds\": 824451']"
      ]
     },
     "execution_count": 8,
     "metadata": {},
     "output_type": "execute_result"
    }
   ],
   "source": [
    "# List Top 10 treding apps -> the apps with most rating_count_tot\n",
    "trending_apps = apps.sortBy(lambda x: int(x[6]), False).map(lambda cols: cols[2]+\": \"+cols[6])\n",
    "trending_apps.take(10)"
   ]
  },
  {
   "cell_type": "code",
   "execution_count": 9,
   "metadata": {},
   "outputs": [
    {
     "data": {
      "text/plain": [
       "1.136256756547119"
      ]
     },
     "execution_count": 9,
     "metadata": {},
     "output_type": "execute_result"
    }
   ],
   "source": [
    "# The difference in the average number of screenshots displayed of highest and lowest rating apps\n",
    "# Use ipadSc_urls.num\n",
    "screenshots_highest_rating = apps.filter(lambda x: float(x[8])==5).map(lambda x: int(x[14]))\n",
    "screenshots_lowest_rating = apps.filter(lambda x: float(x[8])==0).map(lambda x: int(x[14]))\n",
    "screenshots_highest_rating.mean()- screenshots_lowest_rating.mean()"
   ]
  },
  {
   "cell_type": "code",
   "execution_count": 10,
   "metadata": {},
   "outputs": [
    {
     "data": {
      "text/plain": [
       "0.4745417515274949"
      ]
     },
     "execution_count": 10,
     "metadata": {},
     "output_type": "execute_result"
    }
   ],
   "source": [
    "# What percentage of high rated apps support multiple languages\n",
    "# Use lang.num\n",
    "high_rating_apps = apps.filter(lambda x: float(x[8])==5)\n",
    "high_rating_apps_multiple_lang = high_rating_apps.filter(lambda x: int(x[15]) >= 2)\n",
    "high_rating_apps_multiple_lang.count() / high_rating_apps.count()"
   ]
  },
  {
   "cell_type": "code",
   "execution_count": 11,
   "metadata": {},
   "outputs": [],
   "source": [
    "from pyspark.mllib.stat import Statistics\n",
    "import re"
   ]
  },
  {
   "cell_type": "code",
   "execution_count": 12,
   "metadata": {},
   "outputs": [
    {
     "name": "stdout",
     "output_type": "stream",
     "text": [
      "Correlation is: 0.043467893153070036\n"
     ]
    }
   ],
   "source": [
    "# How does app details contribute to user ratings\n",
    "user_ratings = apps.map(lambda x: float(x[8]))\n",
    "# Use version as a proxiy for details\n",
    "version = apps.map(lambda x: int(re.sub('([a-zA-Z])','', x[10]).replace('\"','')[:2].replace(\".\",'')))\n",
    "#version.collect()\n",
    "print(\"Correlation is: \" + str(Statistics.corr(version, user_ratings, method=\"pearson\")))"
   ]
  },
  {
   "cell_type": "markdown",
   "metadata": {},
   "source": [
    "Number of versions has almost no impact on user rating."
   ]
  },
  {
   "cell_type": "code",
   "execution_count": 13,
   "metadata": {},
   "outputs": [
    {
     "name": "stdout",
     "output_type": "stream",
     "text": [
      "\"Food & Drink\" :\n",
      "(count: 62, mean: 3.2338709677419355, stdev: 1.62817367984, max: 5.0, min: 0.0)\n",
      "\"Games\" :\n",
      "(count: 3848, mean: 3.691787941787938, stdev: 1.46076195648, max: 5.0, min: 0.0)\n",
      "\"Shopping\" :\n",
      "(count: 121, mean: 3.5454545454545454, stdev: 1.5130288161, max: 5.0, min: 0.0)\n",
      "\"Business\" :\n",
      "(count: 56, mean: 3.7410714285714297, stdev: 1.25353454362, max: 5.0, min: 0.0)\n",
      "\"Health & Fitness\" :\n",
      "(count: 178, mean: 3.6882022471910108, stdev: 1.53598269375, max: 5.0, min: 0.0)\n",
      "\"Utilities\" :\n",
      "(count: 247, mean: 3.2732793522267207, stdev: 1.47146081774, max: 5.0, min: 0.0)\n",
      "\"Lifestyle\" :\n",
      "(count: 141, mean: 2.7943262411347516, stdev: 1.75651868176, max: 5.0, min: 0.0)\n",
      "\"Productivity\" :\n",
      "(count: 178, mean: 4.005617977528091, stdev: 0.967140991146, max: 5.0, min: 0.0)\n",
      "\"Entertainment\" :\n",
      "(count: 531, mean: 3.240112994350284, stdev: 1.43938127089, max: 5.0, min: 0.0)\n",
      "\"Education\" :\n",
      "(count: 453, mean: 3.3763796909492263, stdev: 1.54160638581, max: 5.0, min: 0.0)\n",
      "\"Music\" :\n",
      "(count: 138, mean: 3.9782608695652173, stdev: 0.878217820727, max: 5.0, min: 0.0)\n",
      "\"Catalogs\" :\n",
      "(count: 10, mean: 2.1, stdev: 2.13072757527, max: 5.0, min: 0.0)\n",
      "\"Sports\" :\n",
      "(count: 114, mean: 2.9824561403508776, stdev: 1.41565468173, max: 5.0, min: 0.0)\n",
      "\"Reference\" :\n",
      "(count: 64, mean: 3.453125, stdev: 1.68800628979, max: 5.0, min: 0.0)\n",
      "\"Navigation\" :\n",
      "(count: 46, mean: 2.6847826086956523, stdev: 1.92624520893, max: 5.0, min: 0.0)\n",
      "\"Finance\" :\n",
      "(count: 103, mean: 2.412621359223301, stdev: 1.84788935551, max: 5.0, min: 0.0)\n",
      "\"Medical\" :\n",
      "(count: 23, mean: 3.369565217391304, stdev: 1.72713252748, max: 5.0, min: 0.0)\n",
      "\"Weather\" :\n",
      "(count: 72, mean: 3.5972222222222223, stdev: 1.25730887903, max: 5.0, min: 0.0)\n",
      "\"Social Networking\" :\n",
      "(count: 165, mean: 2.996969696969696, stdev: 1.64730907267, max: 5.0, min: 0.0)\n",
      "\"Photo & Video\" :\n",
      "(count: 346, mean: 3.8020231213872844, stdev: 1.28146928837, max: 5.0, min: 0.0)\n",
      "\"News\" :\n",
      "(count: 75, mean: 2.9799999999999995, stdev: 1.62160414405, max: 5.0, min: 0.0)\n",
      "\"Book\" :\n",
      "(count: 112, mean: 2.4776785714285716, stdev: 2.18087096876, max: 5.0, min: 0.0)\n",
      "\"Travel\" :\n",
      "(count: 80, mean: 3.39375, stdev: 1.51181544426, max: 5.0, min: 0.0)\n"
     ]
    }
   ],
   "source": [
    "# Compare the statistics of different app groups/genres\n",
    "# Use prime_genre\n",
    "genres = apps.map(lambda x: (x[12],1)).keys().distinct()\n",
    "for genre in genres.collect():\n",
    "    print(genre, \":\")\n",
    "    print(apps.filter(lambda x: x[12]==genre).map(lambda x: float(x[8])).stats())\n",
    "#apps.map(lambda x: float(x[8])).stats()"
   ]
  },
  {
   "cell_type": "code",
   "execution_count": 14,
   "metadata": {},
   "outputs": [
    {
     "name": "stdout",
     "output_type": "stream",
     "text": [
      "Correlation is: 0.08101484439450309\n"
     ]
    }
   ],
   "source": [
    "# Does length of app Description contribute to the ratings?\n",
    "# Use track_name\n",
    "len_name = apps.map(lambda x: len(x[2]))\n",
    "print(\"Correlation is: \" + str(Statistics.corr(len_name, user_ratings, method=\"pearson\")))"
   ]
  },
  {
   "cell_type": "markdown",
   "metadata": {},
   "source": [
    "There's almost no correlation between discription and rating."
   ]
  }
 ],
 "metadata": {
  "kernelspec": {
   "display_name": "Python 3",
   "language": "python",
   "name": "python3"
  },
  "language_info": {
   "codemirror_mode": {
    "name": "ipython",
    "version": 3
   },
   "file_extension": ".py",
   "mimetype": "text/x-python",
   "name": "python",
   "nbconvert_exporter": "python",
   "pygments_lexer": "ipython3",
   "version": "3.5.2"
  }
 },
 "nbformat": 4,
 "nbformat_minor": 2
}
